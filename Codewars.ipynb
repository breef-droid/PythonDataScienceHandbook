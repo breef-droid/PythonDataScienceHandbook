{
  "nbformat": 4,
  "nbformat_minor": 0,
  "metadata": {
    "colab": {
      "name": "Codewars.ipynb",
      "provenance": [],
      "collapsed_sections": [],
      "authorship_tag": "ABX9TyNkKOC8RrQoqYUkxK5tdaIY",
      "include_colab_link": true
    },
    "kernelspec": {
      "name": "python3",
      "display_name": "Python 3"
    },
    "language_info": {
      "name": "python"
    }
  },
  "cells": [
    {
      "cell_type": "markdown",
      "metadata": {
        "id": "view-in-github",
        "colab_type": "text"
      },
      "source": [
        "<a href=\"https://colab.research.google.com/github/breef-droid/PythonDataScienceHandbook/blob/master/Codewars.ipynb\" target=\"_parent\"><img src=\"https://colab.research.google.com/assets/colab-badge.svg\" alt=\"Open In Colab\"/></a>"
      ]
    },
    {
      "cell_type": "markdown",
      "metadata": {
        "id": "gwNrVdLsRX9o"
      },
      "source": [
        "### Sum of parts\n",
        "#### https://www.codewars.com/kata/5ce399e0047a45001c853c2b/train/python"
      ]
    },
    {
      "cell_type": "code",
      "metadata": {
        "id": "sp568C4cOZUg"
      },
      "source": [
        "def parts_sums(ls):\n",
        "    result = [sum(ls)]\n",
        "    for item in ls:\n",
        "        result.append(result[-1] - item)\n",
        "    return result\n",
        "\n",
        "    \n"
      ],
      "execution_count": null,
      "outputs": []
    },
    {
      "cell_type": "code",
      "metadata": {
        "colab": {
          "base_uri": "https://localhost:8080/"
        },
        "id": "1LsbPpc-RhMO",
        "outputId": "c8ed54b7-7bce-4b4a-9557-11faa30e5632"
      },
      "source": [
        "ls = [0, 1, 3, 6, 10]\n",
        "parts_sums(ls)"
      ],
      "execution_count": null,
      "outputs": [
        {
          "output_type": "execute_result",
          "data": {
            "text/plain": [
              "[20, 20, 19, 16, 10, 0]"
            ]
          },
          "metadata": {},
          "execution_count": 60
        }
      ]
    },
    {
      "cell_type": "markdown",
      "metadata": {
        "id": "Z3m_18GplGh5"
      },
      "source": [
        "### Buying a car\n",
        "#### https://www.codewars.com/kata/554a44516729e4d80b000012/train/python"
      ]
    },
    {
      "cell_type": "code",
      "metadata": {
        "id": "hysFaye6RyvG"
      },
      "source": [
        "def nbMonths(startPriceOld, startPriceNew, savingperMonth, percentLossByMonth):\n",
        "    # your code\n",
        "    trade_price = -1\n",
        "    month = 0\n",
        "    savings = 0\n",
        "\n",
        "    if startPriceOld >= startPriceNew:\n",
        "        return [0, startPriceOld - startPriceNew]\n",
        "\n",
        "    while trade_price < 0:\n",
        "        savings += savingperMonth\n",
        "        if month % 2 == 0:\n",
        "            percentLossByMonth = percentLossByMonth\n",
        "        elif month % 2 == 1:\n",
        "            percentLossByMonth += 0.5\n",
        "        startPriceOld = startPriceOld * (1 - percentLossByMonth/100)\n",
        "        startPriceNew = startPriceNew * (1 - percentLossByMonth/100)\n",
        "        trade_price = (startPriceOld - startPriceNew) + savings\n",
        "        month += 1\n",
        "        print(f'Month: {month}, OldPrice: {startPriceOld}, NewPrice: {startPriceNew}, %depn {percentLossByMonth}, Trade {trade_price}')\n",
        "    return [month, round(trade_price, 0)]\n",
        "        \n",
        "# def calc_price(startPriceOld, startPriceNew, savingperMonth, percentLossByMonth):\n",
        "#     return (startPriceOld * (1-percentLossByMonth/100) - startPriceNew * (1-percentLossByMonth/100) + savingperMonth)"
      ],
      "execution_count": null,
      "outputs": []
    },
    {
      "cell_type": "code",
      "metadata": {
        "colab": {
          "base_uri": "https://localhost:8080/"
        },
        "id": "MQWwMJH0mEQ6",
        "outputId": "d5b670c8-28b4-488b-e0ae-32eaf7c9921e"
      },
      "source": [
        "nbMonths(2000, 8000, 1000, 1.5)"
      ],
      "execution_count": null,
      "outputs": [
        {
          "output_type": "stream",
          "name": "stdout",
          "text": [
            "Month: 1, OldPrice: 1970.0, NewPrice: 7880.0, %depn 1.5, Trade -4910.0\n",
            "Month: 2, OldPrice: 1930.6, NewPrice: 7722.4, %depn 2.0, Trade -3791.7999999999993\n",
            "Month: 3, OldPrice: 1891.9879999999998, NewPrice: 7567.951999999999, %depn 2.0, Trade -2675.964\n",
            "Month: 4, OldPrice: 1844.6882999999998, NewPrice: 7378.753199999999, %depn 2.5, Trade -1534.0648999999994\n",
            "Month: 5, OldPrice: 1798.5710924999998, NewPrice: 7194.284369999999, %depn 2.5, Trade -395.7132774999991\n",
            "Month: 6, OldPrice: 1744.6139597249999, NewPrice: 6978.455838899999, %depn 3.0, Trade 766.1581208250009\n"
          ]
        },
        {
          "output_type": "execute_result",
          "data": {
            "text/plain": [
              "[6, 766.1581208250009]"
            ]
          },
          "metadata": {},
          "execution_count": 8
        }
      ]
    },
    {
      "cell_type": "markdown",
      "metadata": {
        "id": "ZbLzVeq7ci_L"
      },
      "source": [
        "### Multiplication Table\n",
        "#### https://www.codewars.com/kata/534d2f5b5371ecf8d2000a08/train/python"
      ]
    },
    {
      "cell_type": "code",
      "metadata": {
        "id": "rPdYT-6Xn-xP"
      },
      "source": [
        "def multiplication_table(size):\n",
        "    res = []\n",
        "    for num_row in range(1, size + 1):\n",
        "        row_table = []\n",
        "        for num_column in range(1, size + 1):\n",
        "            row_table.append(num_row * num_column)\n",
        "        res.append(row_table)\n",
        "    return res"
      ],
      "execution_count": null,
      "outputs": []
    },
    {
      "cell_type": "code",
      "metadata": {
        "colab": {
          "base_uri": "https://localhost:8080/"
        },
        "id": "HsOwG7mWc10Y",
        "outputId": "f2c37bf2-3660-43e7-8242-8d5d9590cddd"
      },
      "source": [
        "multiplication_table(4)"
      ],
      "execution_count": null,
      "outputs": [
        {
          "output_type": "execute_result",
          "data": {
            "text/plain": [
              "[[1, 2, 3, 4], [2, 4, 6, 8], [3, 6, 9, 12], [4, 8, 12, 16]]"
            ]
          },
          "metadata": {},
          "execution_count": 85
        }
      ]
    },
    {
      "cell_type": "markdown",
      "metadata": {
        "id": "CJ8cVCDjEQSO"
      },
      "source": [
        "### Triple Trouble\n",
        "#### https://www.codewars.com/kata/55d5434f269c0c3f1b000058"
      ]
    },
    {
      "cell_type": "code",
      "metadata": {
        "id": "jfzpsvAIc9NB"
      },
      "source": [
        "from collections import Counter\n",
        "\n",
        "def triple_double(num1, num2):\n",
        "    num1 = [int(num) for num in str(num1)]\n",
        "    num2 = [int(num) for num in str(num2)]\n",
        "    \n",
        "    group1 = Counter(num1)\n",
        "    group2 = Counter(num2)\n",
        "\n",
        "    for key, value in group1.items():\n",
        "        if value > 2 and key in group2.keys():\n",
        "            if group2[key] == 2:\n",
        "                print(key, value)\n",
        "                return 1\n",
        "    return 0\n"
      ],
      "execution_count": null,
      "outputs": []
    },
    {
      "cell_type": "code",
      "metadata": {
        "colab": {
          "base_uri": "https://localhost:8080/"
        },
        "id": "dnA9JjE2FP7z",
        "outputId": "1d71c4fb-ec3b-4c27-9600-ac6ce2c9a415"
      },
      "source": [
        "triple_double(10560002, 100)"
      ],
      "execution_count": null,
      "outputs": [
        {
          "output_type": "stream",
          "name": "stdout",
          "text": [
            "0 4\n"
          ]
        },
        {
          "output_type": "execute_result",
          "data": {
            "text/plain": [
              "1"
            ]
          },
          "metadata": {},
          "execution_count": 43
        }
      ]
    },
    {
      "cell_type": "markdown",
      "metadata": {
        "id": "cjLaDpX12YON"
      },
      "source": [
        "### Encrypt this! (25/09/2021)\n",
        "#### https://www.codewars.com/kata/5848565e273af816fb000449"
      ]
    },
    {
      "cell_type": "code",
      "metadata": {
        "id": "SPmmyDmyOq6N"
      },
      "source": [
        "def encrypt_this(text):\n",
        "    encrypt_word = []\n",
        "\n",
        "    for word in text.split():\n",
        "        word = list(word)\n",
        "        word[0] = str(ord(word[0]))\n",
        "        if len(word) > 2:\n",
        "            word[1], word[-1] = word[-1], word[1]\n",
        "        encrypt_word.append(''.join(word))\n",
        "\n",
        "    return ' '.join(encrypt_word)\n",
        "        "
      ],
      "execution_count": null,
      "outputs": []
    },
    {
      "cell_type": "code",
      "metadata": {
        "colab": {
          "base_uri": "https://localhost:8080/",
          "height": 36
        },
        "id": "o5r2dA222iFM",
        "outputId": "ee14d0ee-b446-4e02-fc60-42fa94373fcd"
      },
      "source": [
        "test = \"The more he saw the less he spoke\"\n",
        "encrypt_this(test)"
      ],
      "execution_count": null,
      "outputs": [
        {
          "output_type": "execute_result",
          "data": {
            "application/vnd.google.colaboratory.intrinsic+json": {
              "type": "string"
            },
            "text/plain": [
              "'84eh 109ero 104e 115wa 116eh 108sse 104e 115eokp'"
            ]
          },
          "metadata": {},
          "execution_count": 2
        }
      ]
    },
    {
      "cell_type": "markdown",
      "metadata": {
        "id": "PZOHNoyb389J"
      },
      "source": [
        "### A Rule of Divisibility by 13\n",
        "#### https://www.codewars.com/kata/564057bc348c7200bd0000ff/train/python"
      ]
    },
    {
      "cell_type": "code",
      "metadata": {
        "id": "rbzDcXnw2qBL"
      },
      "source": [
        "def thirt(n):\n",
        "    rem = [1,10,9,12,3,4]\n",
        "    digits = [int(dig) for dig in str(n)][::-1]\n",
        "    result = 0\n",
        "    \n",
        "    while len(digits) > 2:\n",
        "        for i in range(0, len(digits)):\n",
        "            result += digits[i] * rem[i % 6]\n",
        "        digits = [int(dig) for dig in str(result)][::-1]\n",
        "        result = 0\n",
        "\n",
        "    num = [str(n) for n in digits[::-1]]\n",
        "    num = int(''.join(num))\n",
        "\n",
        "    return num"
      ],
      "execution_count": null,
      "outputs": []
    },
    {
      "cell_type": "code",
      "metadata": {
        "colab": {
          "base_uri": "https://localhost:8080/"
        },
        "id": "p_qzAcKK4R1Z",
        "outputId": "2f901127-a774-45c9-bb8e-dd6c18a02a49"
      },
      "source": [
        "thirt(1234567)"
      ],
      "execution_count": null,
      "outputs": [
        {
          "output_type": "execute_result",
          "data": {
            "text/plain": [
              "87"
            ]
          },
          "metadata": {},
          "execution_count": 91
        }
      ]
    },
    {
      "cell_type": "code",
      "metadata": {
        "id": "38UytqERCbnN"
      },
      "source": [],
      "execution_count": null,
      "outputs": []
    },
    {
      "cell_type": "markdown",
      "metadata": {
        "id": "6KWzuJ5DWFzw"
      },
      "source": [
        "### Meeting\n",
        "#### https://www.codewars.com/kata/59df2f8f08c6cec835000012"
      ]
    },
    {
      "cell_type": "code",
      "metadata": {
        "id": "qJW7MRUvWIR7"
      },
      "source": [
        "def meeting(s):\n",
        "    names_list = list()\n",
        "    for name in s.split(';'):\n",
        "        name = name.upper()\n",
        "        name = tuple(name.split(':')[::-1])\n",
        "        names_list.append(name)\n",
        "    names_list = sorted(names_list, key= lambda element: (element[0], element[1]))\n",
        "    res = str()\n",
        "    for e in names_list:\n",
        "        e = str(e).replace(\"'\", \"\")\n",
        "        res += str(e)\n",
        "    return res\n"
      ],
      "execution_count": null,
      "outputs": []
    },
    {
      "cell_type": "code",
      "metadata": {
        "colab": {
          "base_uri": "https://localhost:8080/",
          "height": 35
        },
        "id": "nnmyTlZMWoKv",
        "outputId": "6a58aa0d-47ce-4480-8a63-b41113399667"
      },
      "source": [
        "s = \"Fred:Corwill;Wilfred:Corwill;Barney:Tornbull;Betty:Tornbull;Bjon:Tornbull;Raphael:Corwill;Alfred:Corwill\"\n",
        "meeting(s)"
      ],
      "execution_count": null,
      "outputs": [
        {
          "output_type": "execute_result",
          "data": {
            "application/vnd.google.colaboratory.intrinsic+json": {
              "type": "string"
            },
            "text/plain": [
              "'(CORWILL, ALFRED)(CORWILL, FRED)(CORWILL, RAPHAEL)(CORWILL, WILFRED)(TORNBULL, BARNEY)(TORNBULL, BETTY)(TORNBULL, BJON)'"
            ]
          },
          "metadata": {},
          "execution_count": 46
        }
      ]
    },
    {
      "cell_type": "markdown",
      "metadata": {
        "id": "cua-bAupxV0o"
      },
      "source": [
        "### Luhn Algorithm\n",
        "#### https://www.codewars.com/kata/5418a1dd6d8216e18a0012b2"
      ]
    },
    {
      "cell_type": "code",
      "metadata": {
        "id": "6ykLlcK2WsLS"
      },
      "source": [
        "def validate(n):\n",
        "    n = [int(digit) for digit in str(n)][::-1]\n",
        "    for num in range(1, len(n), 2):\n",
        "        if len(str(n[num] * 2)) > 1:\n",
        "            n[num] = n[num] * 2 - 9\n",
        "        else:\n",
        "            n[num] *= 2\n",
        "    \n",
        "    return sum(n) % 10 == 0"
      ],
      "execution_count": null,
      "outputs": []
    },
    {
      "cell_type": "code",
      "metadata": {
        "colab": {
          "base_uri": "https://localhost:8080/"
        },
        "id": "xk0K__DRx_U1",
        "outputId": "889b5262-79c6-4cb0-f251-2c03086c41c9"
      },
      "source": [
        "validate(8511025042084)"
      ],
      "execution_count": null,
      "outputs": [
        {
          "output_type": "execute_result",
          "data": {
            "text/plain": [
              "True"
            ]
          },
          "metadata": {},
          "execution_count": 34
        }
      ]
    },
    {
      "cell_type": "markdown",
      "metadata": {
        "id": "Xi8-vmvC_YPA"
      },
      "source": [
        "### Count IP Addresses\n",
        "#### https://www.codewars.com/kata/526989a41034285187000de4/train/python\n",
        "\n",
        "#### 0.0.0.0 -> 255.255.255.255"
      ]
    },
    {
      "cell_type": "code",
      "metadata": {
        "id": "OPaf8EEeyC0x"
      },
      "source": [
        "def ips_between(start, end):\n",
        "    return abs(ip_to_int(start) - ip_to_int(end))\n",
        "\n",
        "def ip_to_int(ip):\n",
        "    ip = [int(i) for i in ip.split('.')][::-1]\n",
        "    int_result = 0\n",
        "    for index, value in enumerate(ip):\n",
        "        int_result += value * (2 ** (index * 8))\n",
        "    return int_result"
      ],
      "execution_count": null,
      "outputs": []
    },
    {
      "cell_type": "code",
      "metadata": {
        "id": "B-6g73tI0Lfu",
        "colab": {
          "base_uri": "https://localhost:8080/"
        },
        "outputId": "08b2a972-15cd-48aa-bd56-1b1ac563e6b1"
      },
      "source": [
        "# ip_to_int(\"64.233.187.99\")\n",
        "ips_between(\"10.0.0.0\", \"10.0.0.50\")"
      ],
      "execution_count": null,
      "outputs": [
        {
          "output_type": "execute_result",
          "data": {
            "text/plain": [
              "-50"
            ]
          },
          "metadata": {},
          "execution_count": 50
        }
      ]
    },
    {
      "cell_type": "markdown",
      "metadata": {
        "id": "aSk33xRNuOxq"
      },
      "source": [
        "### Gap in primes\n",
        "#### https://www.codewars.com/kata/561e9c843a2ef5a40c0000a4/train/python"
      ]
    },
    {
      "cell_type": "code",
      "metadata": {
        "id": "DZxdUTWE0Ldi"
      },
      "source": [
        "def gap(g, m, n):\n",
        "    last_prime = 2\n",
        "    for i in range(m, n+1):\n",
        "        prime = True\n",
        "\n",
        "        for j in range(2, int(n**.5)+1):\n",
        "            if i % j == 0:\n",
        "                prime = False\n",
        "                break\n",
        "\n",
        "        if prime:\n",
        "            if i - last_prime == g:\n",
        "                return [last_prime, i]\n",
        "            else:\n",
        "                last_prime = i"
      ],
      "execution_count": null,
      "outputs": []
    },
    {
      "cell_type": "code",
      "metadata": {
        "id": "SxDMA1YZ0La-",
        "colab": {
          "base_uri": "https://localhost:8080/"
        },
        "outputId": "e0d8139c-810e-4c2d-87c9-3aac9f696f20"
      },
      "source": [
        "gap(2, 100, 105)"
      ],
      "execution_count": null,
      "outputs": [
        {
          "output_type": "execute_result",
          "data": {
            "text/plain": [
              "[101, 103]"
            ]
          },
          "metadata": {},
          "execution_count": 2
        }
      ]
    },
    {
      "cell_type": "markdown",
      "metadata": {
        "id": "BRscwRK7yyof"
      },
      "source": [
        "### ProjectEuler: Multiples of 3 or 5\n",
        "#### https://projecteuler.net/problem=1\n",
        "If we list all the natural numbers below 10 that are multiples of 3 or 5, we get 3, 5, 6 and 9. The sum of these multiples is 23.\n",
        "\n",
        "Find the sum of all the multiples of 3 or 5 below 1000."
      ]
    },
    {
      "cell_type": "code",
      "metadata": {
        "id": "YpK6ntaP0LYd"
      },
      "source": [
        "#returns list of multiples within specified limit\n",
        "def find_multiples(multiple, limit):\n",
        "    result = list()\n",
        "    current_mult = multiple\n",
        "    for i in range(1, (limit + multiple) // multiple):\n",
        "            if current_mult * i < limit:\n",
        "                result.append(current_mult * i)\n",
        "    return result\n",
        "\n",
        "# returns the sum of the union of two sets\n",
        "def sum_multiples(multiples, limit):\n",
        "    set_1 = set(find_multiples(multiples[0], limit))\n",
        "    set_2 = set(find_multiples(multiples[1], limit))\n",
        "    return sum(set_1.union(set_2))\n",
        "    \n"
      ],
      "execution_count": null,
      "outputs": []
    },
    {
      "cell_type": "code",
      "metadata": {
        "colab": {
          "base_uri": "https://localhost:8080/"
        },
        "id": "OmSi-N9lzv88",
        "outputId": "eda58a4c-72e4-424e-9f2d-bc6e7ea2eb80"
      },
      "source": [
        "sum_multiples([3,5], 1000)"
      ],
      "execution_count": null,
      "outputs": [
        {
          "output_type": "execute_result",
          "data": {
            "text/plain": [
              "233168"
            ]
          },
          "metadata": {},
          "execution_count": 62
        }
      ]
    },
    {
      "cell_type": "markdown",
      "metadata": {
        "id": "iPumeRiIH2wf"
      },
      "source": [
        "### Codewars: Joesphus"
      ]
    },
    {
      "cell_type": "code",
      "metadata": {
        "id": "xBpxGZ-TH2eR"
      },
      "source": [
        "# n = people, k = skip value\n",
        "def josephus2(n,k):\n",
        "    n = list(range(1,n+1))\n",
        "    i = -1\n",
        "    while len(n) > 1:\n",
        "        i = (i + k) % len(n)\n",
        "        n = n[:i] + n[i+1:]\n",
        "        i -= 1\n",
        "\n",
        "    return n[0]"
      ],
      "execution_count": null,
      "outputs": []
    },
    {
      "cell_type": "code",
      "metadata": {
        "colab": {
          "base_uri": "https://localhost:8080/"
        },
        "id": "BZKf2tSJzv6u",
        "outputId": "33fafd79-78c6-4889-db8b-1306472df4cd"
      },
      "source": [
        "josephus_survivor(7,3)"
      ],
      "execution_count": null,
      "outputs": [
        {
          "output_type": "execute_result",
          "data": {
            "text/plain": [
              "3"
            ]
          },
          "metadata": {},
          "execution_count": 29
        }
      ]
    },
    {
      "cell_type": "markdown",
      "metadata": {
        "id": "meXOCIwgCM5F"
      },
      "source": [
        "### Codewars: ROT-13\n",
        "#### https://www.codewars.com/kata/52223df9e8f98c7aa7000062/train/python"
      ]
    },
    {
      "cell_type": "code",
      "metadata": {
        "id": "QFof32AXCMTD"
      },
      "source": [
        "import string\n",
        "\n",
        "def rot13(message):\n",
        "    # in dict comprehension the key is set once, no need to set again in else statement\n",
        "    alph_set = {key: chr((ord(key) + 13)) if ord(key) + 13 < 123 else chr(ord(key) - 13) for key in string.ascii_lowercase}\n",
        "    # for loop method\n",
        "    # alph_set_2 = dict()\n",
        "    # for key in string.ascii_lowercase:\n",
        "    #     if ord(key) + 13 < 123:\n",
        "    #         alph_set_2[key] = chr(ord(key) + 13)\n",
        "    #     else:\n",
        "    #         alph_set_2[key] = chr(ord(key) - 13)\n",
        "    result = ''\n",
        "    for i in message:\n",
        "        if i.isalpha():\n",
        "            if i.isupper():\n",
        "                result += alph_set[i.lower()].upper()\n",
        "            else:\n",
        "                result += alph_set[i.lower()].lower()\n",
        "        else:\n",
        "            result += i\n",
        "    return result"
      ],
      "execution_count": null,
      "outputs": []
    },
    {
      "cell_type": "code",
      "metadata": {
        "id": "ygM5Kjywzv4c",
        "colab": {
          "base_uri": "https://localhost:8080/",
          "height": 35
        },
        "outputId": "39101850-fb47-414c-f434-7abec735f7b5"
      },
      "source": [
        "rot13('1')"
      ],
      "execution_count": null,
      "outputs": [
        {
          "output_type": "execute_result",
          "data": {
            "application/vnd.google.colaboratory.intrinsic+json": {
              "type": "string"
            },
            "text/plain": [
              "'1'"
            ]
          },
          "metadata": {},
          "execution_count": 72
        }
      ]
    },
    {
      "cell_type": "code",
      "metadata": {
        "id": "f6bLpSNFzv2F",
        "colab": {
          "base_uri": "https://localhost:8080/"
        },
        "outputId": "8928dd4a-6195-489e-9fe2-e8a474fcf165"
      },
      "source": [
        "45*60"
      ],
      "execution_count": null,
      "outputs": [
        {
          "output_type": "execute_result",
          "data": {
            "text/plain": [
              "2700"
            ]
          },
          "metadata": {},
          "execution_count": 75
        }
      ]
    },
    {
      "cell_type": "code",
      "metadata": {
        "id": "2xwuoby0zvzh",
        "outputId": "17e2f404-2280-4b15-b605-7aa6b3a09733",
        "colab": {
          "base_uri": "https://localhost:8080/"
        }
      },
      "source": [
        "words = 'His e-mail is q-lar@freecodecamp.org'\n",
        "pieces = words.split()\n",
        "pieces"
      ],
      "execution_count": null,
      "outputs": [
        {
          "output_type": "execute_result",
          "data": {
            "text/plain": [
              "['His', 'e-mail', 'is', 'q-lar@freecodecamp.org']"
            ]
          },
          "metadata": {},
          "execution_count": 1
        }
      ]
    },
    {
      "cell_type": "code",
      "metadata": {
        "id": "qMXSWomDzvpl"
      },
      "source": [
        "def solution(string):\n",
        "    return string[::-1]"
      ],
      "execution_count": null,
      "outputs": []
    },
    {
      "cell_type": "markdown",
      "source": [
        "# Codewars: Prefill an Array(6kyu)<br>\n",
        "https://www.codewars.com/kata/54129112fb7c188740000162"
      ],
      "metadata": {
        "id": "W7mdYFu8l0xZ"
      }
    },
    {
      "cell_type": "code",
      "source": [
        "def prefill(n,v=-1): # can change this to v= None and remove if statement\n",
        "    try:\n",
        "        return [v] * int(n)\n",
        "    except:\n",
        "        if v == -1:\n",
        "            return [None]  \n",
        "        else:\n",
        "            return TypeError(f'{n} is invalid')"
      ],
      "metadata": {
        "id": "CflhK-1al0eg"
      },
      "execution_count": null,
      "outputs": []
    },
    {
      "cell_type": "markdown",
      "source": [
        "# Codewars: Coloured Triangles(7kyu)<br>\n",
        "https://www.codewars.com/kata/5a25ac6ac5e284cfbe000111/train/python"
      ],
      "metadata": {
        "id": "qGzOBstMrGXL"
      }
    },
    {
      "cell_type": "code",
      "source": [
        "def triangle(row):\n",
        "    solution = {\n",
        "        'GG' : 'G',\n",
        "        'BG' : 'R',\n",
        "        'GB' : 'R',\n",
        "        'RG' : 'B',\n",
        "        'GR' : 'B'\n",
        "    }\n",
        "    return None"
      ],
      "metadata": {
        "colab": {
          "base_uri": "https://localhost:8080/"
        },
        "id": "2FqsZfNmm2E9",
        "outputId": "5d0c4386-89c5-49d0-c328-c2dda0c7682d"
      },
      "execution_count": null,
      "outputs": [
        {
          "output_type": "execute_result",
          "data": {
            "text/plain": [
              "[]"
            ]
          },
          "metadata": {},
          "execution_count": 35
        }
      ]
    },
    {
      "cell_type": "markdown",
      "source": [
        "# 6 kyu Matrix Addition"
      ],
      "metadata": {
        "id": "Sd2dVSjaJkRx"
      }
    },
    {
      "cell_type": "code",
      "source": [
        "def matrix_addition(a, b):\n",
        "    res = []\n",
        "    for ind, val in enumerate(a):\n",
        "        temp_l = []\n",
        "        for sub_ind, sub_val in enumerate(val):\n",
        "            temp_l.append(a[ind][sub_ind] + b[ind][sub_ind]) # temp list for sum of items in sublist\n",
        "        res.append(temp_l)\n",
        "    return res"
      ],
      "metadata": {
        "id": "cjehj-s9m6DG"
      },
      "execution_count": null,
      "outputs": []
    },
    {
      "cell_type": "code",
      "source": [
        "#test\n",
        "a =   [ [1, 2], [1, 2] ]\n",
        "b =   [ [2, 3], [2, 3] ]\n",
        "matrix_addition(a, b)"
      ],
      "metadata": {
        "colab": {
          "base_uri": "https://localhost:8080/"
        },
        "id": "gqC87rQJK93J",
        "outputId": "689db51c-5d75-4c96-f8f6-43b3ce844875"
      },
      "execution_count": null,
      "outputs": [
        {
          "output_type": "stream",
          "name": "stdout",
          "text": [
            "0 [1, 2] 0 1\n",
            "[3]\n",
            "0 [1, 2] 1 2\n",
            "[3, 5]\n",
            "1 [1, 2] 0 1\n",
            "[3]\n",
            "1 [1, 2] 1 2\n",
            "[3, 5]\n"
          ]
        },
        {
          "output_type": "execute_result",
          "data": {
            "text/plain": [
              "[[3, 5], [3, 5]]"
            ]
          },
          "metadata": {},
          "execution_count": 37
        }
      ]
    },
    {
      "cell_type": "markdown",
      "source": [
        "# 6 kyu Playing with passphrases\n",
        "https://www.codewars.com/kata/559536379512a64472000053/train/python"
      ],
      "metadata": {
        "id": "afbe6s__Sm1x"
      }
    },
    {
      "cell_type": "code",
      "source": [
        "def play_pass(s, n):\n",
        "    res = shift_nums(s, n)\n",
        "    return case_change(res)[::-1]\n",
        "\n",
        "def shift_nums(s, n):\n",
        "    res = ''\n",
        "    # shift each letter by n\n",
        "    for letter in s.lower(): # lower case used because case is irrelevant\n",
        "        # wrap around alphabet\n",
        "        if letter.isalpha():\n",
        "            if ord(letter) + n > 122:\n",
        "                temp_letter = chr((ord(letter) + n)%122 + 96)\n",
        "            else: temp_letter = chr(ord(letter) + n)\n",
        "            res += temp_letter\n",
        "        # number converted to complement of 9\n",
        "        elif letter.isnumeric(): \n",
        "            letter = 9 - int(letter)\n",
        "            res+= str(letter)\n",
        "        else: res+= letter\n",
        "    return res\n",
        "\n",
        "def case_change(text):\n",
        "    result = ''\n",
        "    for ind, val in enumerate(text):\n",
        "        if val.isalpha():\n",
        "            # odd even check\n",
        "            if ind%2 == 0:\n",
        "                result += val.upper()\n",
        "            else: result += val.lower()\n",
        "        else: result += val\n",
        "    return result\n"
      ],
      "metadata": {
        "id": "Hlh22_THL9BL"
      },
      "execution_count": null,
      "outputs": []
    },
    {
      "cell_type": "markdown",
      "source": [
        "# 5 kyu Convert PascalCase string into snake_case\n",
        "https://www.codewars.com/kata/529b418d533b76924600085d/train/python"
      ],
      "metadata": {
        "id": "Ir_84j6iBJCt"
      }
    },
    {
      "cell_type": "code",
      "source": [
        "def to_underscore(string):\n",
        "    result = ''\n",
        "    for ind, char in enumerate(str(string)):\n",
        "        if char.isupper() and ind != 0: # first char upper\n",
        "            result += \"_\" + char.lower()\n",
        "        elif ind == 0:\n",
        "            result += char.lower() # first char\n",
        "        else: result += char # remaining chars\n",
        "    return result"
      ],
      "metadata": {
        "id": "DGPnXJKdUVkX"
      },
      "execution_count": null,
      "outputs": []
    },
    {
      "cell_type": "markdown",
      "source": [
        "# 5 kyu Beeramid\n",
        "https://www.codewars.com/kata/51e04f6b544cf3f6550000c1"
      ],
      "metadata": {
        "id": "-Ap4O0zSJZxg"
      }
    },
    {
      "cell_type": "code",
      "source": [
        "def beeramid(bonus, price):\n",
        "    level = 1\n",
        "    sum = 0\n",
        "    total_beers = (bonus - (bonus%price))/price\n",
        "    while sum <= total_beers:\n",
        "        sum += level ** 2\n",
        "        level += 1 \n",
        "    return level -2 if level -2 >=0 else 0"
      ],
      "metadata": {
        "id": "klJrOC8ZS1-o"
      },
      "execution_count": null,
      "outputs": []
    },
    {
      "cell_type": "markdown",
      "source": [
        "# 5 kyu Convert A Hex String To RGB\n",
        "https://www.codewars.com/kata/5282b48bb70058e4c4000fa7/train/python"
      ],
      "metadata": {
        "id": "PybXiyCwwQuG"
      }
    },
    {
      "cell_type": "code",
      "source": [
        "def hex_string_to_RGB(hex_string):\n",
        "    return {'r': int(hex_string[1:3],16), 'g': int(hex_string[3:5],16), 'b': int(hex_string[5:],16)}"
      ],
      "metadata": {
        "id": "uDNLyN3LTvbS"
      },
      "execution_count": null,
      "outputs": []
    },
    {
      "cell_type": "code",
      "source": [
        "# test\n",
        "tests = ['#FF9933', '#beaded', '#000000', '#111111', '#Fa3456']\n",
        "for test in tests:\n",
        "    print(hex_string_to_RGB(test))"
      ],
      "metadata": {
        "colab": {
          "base_uri": "https://localhost:8080/"
        },
        "id": "nnkvyQm-VdYw",
        "outputId": "f28bff20-c5a6-49b2-ff03-4f38a7c2dc7a"
      },
      "execution_count": null,
      "outputs": [
        {
          "output_type": "stream",
          "name": "stdout",
          "text": [
            "{'r': 255, 'g': 153, 'b': 51}\n",
            "{'r': 190, 'g': 173, 'b': 237}\n",
            "{'r': 0, 'g': 0, 'b': 0}\n",
            "{'r': 17, 'g': 17, 'b': 17}\n",
            "{'r': 250, 'g': 52, 'b': 86}\n"
          ]
        }
      ]
    },
    {
      "cell_type": "markdown",
      "source": [
        "# 5yu Merged String Checker\n",
        "https://www.codewars.com/kata/54c9fcad28ec4c6e680011aa/train/python"
      ],
      "metadata": {
        "id": "nnLBb8InzOMZ"
      }
    },
    {
      "cell_type": "code",
      "source": [
        "def is_merge(s, part1, part2):\n",
        "    s, part1, part2 = make_list(s), make_list(part1), make_list(part2)\n",
        "    check = s.copy()\n",
        "    order = []\n",
        "    for ind, char in enumerate(s):\n",
        "        if char in part1:\n",
        "            order.append(part1.index(char))\n",
        "            part1.remove(char)\n",
        "        elif char in part2:\n",
        "            order.append(part2.index(char))\n",
        "            part2.remove(char) \n",
        "        else: return False\n",
        "        check.remove(char)\n",
        "    print(f's: {s}, check: {check}, p1: {part1}, p2:{part2}, order: {order}')\n",
        "    if len(order) > 0:\n",
        "        if max(order) > 0:\n",
        "            return False\n",
        "    if max(len(check), len(part1), len(part2)) > 0:\n",
        "        return False\n",
        "    else: return True\n",
        "\n",
        "def make_list(s):\n",
        "    return [char for char in s]                                                            "
      ],
      "metadata": {
        "id": "7N6fugq7zVQC"
      },
      "execution_count": null,
      "outputs": []
    },
    {
      "cell_type": "code",
      "source": [
        "s = 'codewars'\n",
        "part1 = 'code'\n",
        "part2 = 'wars'\n",
        "is_merge(s, part1, part2)"
      ],
      "metadata": {
        "id": "069Mwxn2tZpa",
        "outputId": "4c711c65-0949-428e-d061-737e4f104035",
        "colab": {
          "base_uri": "https://localhost:8080/"
        }
      },
      "execution_count": null,
      "outputs": [
        {
          "output_type": "stream",
          "name": "stdout",
          "text": [
            "s: ['c', 'o', 'd', 'e', 'w', 'a', 'r', 's'], check: [], p1: [], p2:[], order: [0, 0, 0, 0, 0, 0, 0, 0]\n"
          ]
        },
        {
          "output_type": "execute_result",
          "data": {
            "text/plain": [
              "True"
            ]
          },
          "metadata": {},
          "execution_count": 84
        }
      ]
    },
    {
      "cell_type": "markdown",
      "source": [
        "# 5 kyu Mean Square Error\n",
        "https://www.codewars.com/kata/51edd51599a189fe7f000015"
      ],
      "metadata": {
        "id": "iTZqW1daFteI"
      }
    },
    {
      "cell_type": "code",
      "source": [
        "def solution(array_a, array_b):\n",
        "    return sum([(abs(a - b) ** 2) for a, b in zip(array_a, array_b)]) / len(array_a)"
      ],
      "metadata": {
        "id": "lZrVGpj70qSs"
      },
      "execution_count": null,
      "outputs": []
    },
    {
      "cell_type": "code",
      "source": [
        "#test\n",
        "a1 = [1,2,3]\n",
        "a2 = [4,5,6]\n",
        "solution(a1, a2)"
      ],
      "metadata": {
        "id": "_kYoGlQF1PCJ",
        "outputId": "b883c057-656b-4375-bf6f-2452cb2818e8",
        "colab": {
          "base_uri": "https://localhost:8080/"
        }
      },
      "execution_count": null,
      "outputs": [
        {
          "output_type": "execute_result",
          "data": {
            "text/plain": [
              "9.0"
            ]
          },
          "metadata": {},
          "execution_count": 8
        }
      ]
    },
    {
      "cell_type": "markdown",
      "source": [
        "# 5 kyu Vector class\n",
        "https://www.codewars.com/kata/526dad7f8c0eb5c4640000a4\n"
      ],
      "metadata": {
        "id": "r5YasyGKgRVa"
      }
    },
    {
      "cell_type": "code",
      "source": [
        "class Vector():\n",
        "    def __init__(self, array):\n",
        "        self.array = array\n",
        "        self.length = len(self.array)\n",
        "\n",
        "    def __str__(self):\n",
        "        return f'({\",\".join(str(x) for x in self.array)})'\n",
        "\n",
        "    def equals(self, value):\n",
        "        return all([value.array[ind] == self.array[ind] for ind in range(len(self.array))])\n",
        "\n",
        "    def add(self, value):\n",
        "        self.length_check(value)\n",
        "        return Vector([value.array[ind] + self.array[ind] for ind in range(len(self.array))])\n",
        "\n",
        "    def subtract(self, value):\n",
        "        self.length_check(value)\n",
        "        return Vector([self.array[ind] - value.array[ind] for ind in range(len(self.array))])\n",
        "\n",
        "    def dot(self, value):\n",
        "        self.length_check(value)\n",
        "        return sum([value.array[ind] * self.array[ind] for ind in range(len(self.array))])\n",
        "\n",
        "    def norm(self):\n",
        "        return sum([val ** 2 for val in self.array]) ** (1/2)\n",
        "    \n",
        "    \n",
        "    def length_check(self, value):\n",
        "        if value.length != self.length:\n",
        "            raise Exception('Array lengths are not equal')\n",
        "\n",
        "    "
      ],
      "metadata": {
        "id": "7RIBhaqagZqC"
      },
      "execution_count": null,
      "outputs": []
    },
    {
      "cell_type": "code",
      "source": [
        "a = Vector([1,2, 3])\n",
        "b = Vector([3,4,5])\n",
        "c = Vector([5, 6, 7, 8])\n",
        "d = a.add(b)\n",
        "d.array"
      ],
      "metadata": {
        "id": "L-hVXAYClo9n",
        "outputId": "80e2755b-6130-4cdc-aacc-eead4627395d",
        "colab": {
          "base_uri": "https://localhost:8080/"
        }
      },
      "execution_count": null,
      "outputs": [
        {
          "output_type": "execute_result",
          "data": {
            "text/plain": [
              "[4, 6, 8]"
            ]
          },
          "metadata": {},
          "execution_count": 56
        }
      ]
    },
    {
      "cell_type": "code",
      "source": [
        "a.add(b).equals(d)"
      ],
      "metadata": {
        "id": "HuEntOopn26x",
        "outputId": "98f4c81c-c400-4c77-afd4-53c7b309d4e2",
        "colab": {
          "base_uri": "https://localhost:8080/"
        }
      },
      "execution_count": null,
      "outputs": [
        {
          "output_type": "execute_result",
          "data": {
            "text/plain": [
              "True"
            ]
          },
          "metadata": {},
          "execution_count": 57
        }
      ]
    },
    {
      "cell_type": "code",
      "source": [
        "print(a.__str__)"
      ],
      "metadata": {
        "id": "2l_w7M9GluGE",
        "outputId": "5b291498-3cdd-49aa-c159-956ef4243234",
        "colab": {
          "base_uri": "https://localhost:8080/"
        }
      },
      "execution_count": null,
      "outputs": [
        {
          "output_type": "stream",
          "name": "stdout",
          "text": [
            "<bound method Vector.__str__ of <__main__.Vector object at 0x7f357eaea790>>\n"
          ]
        }
      ]
    },
    {
      "cell_type": "code",
      "source": [
        "a.add(b).array    # should return a new Vector([4, 6, 8])\n"
      ],
      "metadata": {
        "id": "-F_xTN1PhBDU",
        "outputId": "7a1612f2-dfe7-430e-d6f1-4c01a0356b2c",
        "colab": {
          "base_uri": "https://localhost:8080/"
        }
      },
      "execution_count": null,
      "outputs": [
        {
          "output_type": "execute_result",
          "data": {
            "text/plain": [
              "[4, 6, 8]"
            ]
          },
          "metadata": {},
          "execution_count": 45
        }
      ]
    },
    {
      "cell_type": "code",
      "source": [
        "a.subtract(b).array # should return a new Vector([-2, -2, -2])\n"
      ],
      "metadata": {
        "id": "-iHoT_iRhEsl",
        "outputId": "ac917852-8f41-4e25-c7f3-bc1eced49405",
        "colab": {
          "base_uri": "https://localhost:8080/"
        }
      },
      "execution_count": null,
      "outputs": [
        {
          "output_type": "execute_result",
          "data": {
            "text/plain": [
              "[-2, -2, -2]"
            ]
          },
          "metadata": {},
          "execution_count": 46
        }
      ]
    },
    {
      "cell_type": "code",
      "source": [
        "a.dot(b)      # should return 1*3 + 2*4 + 3*5 = 26\n"
      ],
      "metadata": {
        "id": "pmxzBkflj0Ms",
        "outputId": "8bf020e4-d6c4-4f9f-f924-ae7a27d87180",
        "colab": {
          "base_uri": "https://localhost:8080/"
        }
      },
      "execution_count": null,
      "outputs": [
        {
          "output_type": "execute_result",
          "data": {
            "text/plain": [
              "26"
            ]
          },
          "metadata": {},
          "execution_count": 47
        }
      ]
    },
    {
      "cell_type": "code",
      "source": [
        "a.norm()      # should return sqrt(1^2 + 2^2 + 3^2) = sqrt(14)"
      ],
      "metadata": {
        "id": "6MVskoj5j-V7",
        "outputId": "46046503-ca30-403c-f416-a4e5cc724f17",
        "colab": {
          "base_uri": "https://localhost:8080/"
        }
      },
      "execution_count": null,
      "outputs": [
        {
          "output_type": "execute_result",
          "data": {
            "text/plain": [
              "3.7416573867739413"
            ]
          },
          "metadata": {},
          "execution_count": 48
        }
      ]
    },
    {
      "cell_type": "code",
      "source": [
        "a.add(c)      # raises an exceptiona.length\n"
      ],
      "metadata": {
        "id": "PHaCGUDBj_FK",
        "outputId": "946bf54f-c87e-4a53-b152-b04a120b8d4e",
        "colab": {
          "base_uri": "https://localhost:8080/",
          "height": 311
        }
      },
      "execution_count": null,
      "outputs": [
        {
          "output_type": "error",
          "ename": "Exception",
          "evalue": "ignored",
          "traceback": [
            "\u001b[0;31m---------------------------------------------------------------------------\u001b[0m",
            "\u001b[0;31mException\u001b[0m                                 Traceback (most recent call last)",
            "\u001b[0;32m<ipython-input-49-77e02625d5a7>\u001b[0m in \u001b[0;36m<module>\u001b[0;34m()\u001b[0m\n\u001b[0;32m----> 1\u001b[0;31m \u001b[0ma\u001b[0m\u001b[0;34m.\u001b[0m\u001b[0madd\u001b[0m\u001b[0;34m(\u001b[0m\u001b[0mc\u001b[0m\u001b[0;34m)\u001b[0m      \u001b[0;31m# raises an exceptiona.length\u001b[0m\u001b[0;34m\u001b[0m\u001b[0;34m\u001b[0m\u001b[0m\n\u001b[0m",
            "\u001b[0;32m<ipython-input-42-c70b778b2469>\u001b[0m in \u001b[0;36madd\u001b[0;34m(self, value)\u001b[0m\n\u001b[1;32m     11\u001b[0m \u001b[0;34m\u001b[0m\u001b[0m\n\u001b[1;32m     12\u001b[0m     \u001b[0;32mdef\u001b[0m \u001b[0madd\u001b[0m\u001b[0;34m(\u001b[0m\u001b[0mself\u001b[0m\u001b[0;34m,\u001b[0m \u001b[0mvalue\u001b[0m\u001b[0;34m)\u001b[0m\u001b[0;34m:\u001b[0m\u001b[0;34m\u001b[0m\u001b[0;34m\u001b[0m\u001b[0m\n\u001b[0;32m---> 13\u001b[0;31m         \u001b[0mself\u001b[0m\u001b[0;34m.\u001b[0m\u001b[0mlength_check\u001b[0m\u001b[0;34m(\u001b[0m\u001b[0mvalue\u001b[0m\u001b[0;34m)\u001b[0m\u001b[0;34m\u001b[0m\u001b[0;34m\u001b[0m\u001b[0m\n\u001b[0m\u001b[1;32m     14\u001b[0m         \u001b[0;32mreturn\u001b[0m \u001b[0mVector\u001b[0m\u001b[0;34m(\u001b[0m\u001b[0;34m[\u001b[0m\u001b[0mvalue\u001b[0m\u001b[0;34m.\u001b[0m\u001b[0marray\u001b[0m\u001b[0;34m[\u001b[0m\u001b[0mind\u001b[0m\u001b[0;34m]\u001b[0m \u001b[0;34m+\u001b[0m \u001b[0mself\u001b[0m\u001b[0;34m.\u001b[0m\u001b[0marray\u001b[0m\u001b[0;34m[\u001b[0m\u001b[0mind\u001b[0m\u001b[0;34m]\u001b[0m \u001b[0;32mfor\u001b[0m \u001b[0mind\u001b[0m \u001b[0;32min\u001b[0m \u001b[0mrange\u001b[0m\u001b[0;34m(\u001b[0m\u001b[0mlen\u001b[0m\u001b[0;34m(\u001b[0m\u001b[0mself\u001b[0m\u001b[0;34m.\u001b[0m\u001b[0marray\u001b[0m\u001b[0;34m)\u001b[0m\u001b[0;34m)\u001b[0m\u001b[0;34m]\u001b[0m\u001b[0;34m)\u001b[0m\u001b[0;34m\u001b[0m\u001b[0;34m\u001b[0m\u001b[0m\n\u001b[1;32m     15\u001b[0m \u001b[0;34m\u001b[0m\u001b[0m\n",
            "\u001b[0;32m<ipython-input-42-c70b778b2469>\u001b[0m in \u001b[0;36mlength_check\u001b[0;34m(self, value)\u001b[0m\n\u001b[1;32m     27\u001b[0m     \u001b[0;32mdef\u001b[0m \u001b[0mlength_check\u001b[0m\u001b[0;34m(\u001b[0m\u001b[0mself\u001b[0m\u001b[0;34m,\u001b[0m \u001b[0mvalue\u001b[0m\u001b[0;34m)\u001b[0m\u001b[0;34m:\u001b[0m\u001b[0;34m\u001b[0m\u001b[0;34m\u001b[0m\u001b[0m\n\u001b[1;32m     28\u001b[0m         \u001b[0;32mif\u001b[0m \u001b[0mvalue\u001b[0m\u001b[0;34m.\u001b[0m\u001b[0mlength\u001b[0m \u001b[0;34m!=\u001b[0m \u001b[0mself\u001b[0m\u001b[0;34m.\u001b[0m\u001b[0mlength\u001b[0m\u001b[0;34m:\u001b[0m\u001b[0;34m\u001b[0m\u001b[0;34m\u001b[0m\u001b[0m\n\u001b[0;32m---> 29\u001b[0;31m             \u001b[0;32mraise\u001b[0m \u001b[0mException\u001b[0m\u001b[0;34m(\u001b[0m\u001b[0;34m'Array lengths are not equal'\u001b[0m\u001b[0;34m)\u001b[0m\u001b[0;34m\u001b[0m\u001b[0;34m\u001b[0m\u001b[0m\n\u001b[0m\u001b[1;32m     30\u001b[0m \u001b[0;34m\u001b[0m\u001b[0m\n\u001b[1;32m     31\u001b[0m \u001b[0;34m\u001b[0m\u001b[0m\n",
            "\u001b[0;31mException\u001b[0m: Array lengths are not equal"
          ]
        }
      ]
    },
    {
      "cell_type": "markdown",
      "source": [
        "# 5kyu Longest Common Subsequence\n",
        "https://www.codewars.com/kata/52756e5ad454534f220001ef"
      ],
      "metadata": {
        "id": "rnvjxykpj7EQ"
      }
    },
    {
      "cell_type": "code",
      "source": [
        "def lcs(x, y):\n",
        "    res = []\n",
        "    ind = 0\n",
        "    for item in y:\n",
        "        if item in x[ind:]:\n",
        "            res += [item]\n",
        "            ind = x.index(item) + 1\n",
        "    return ''.join(res)"
      ],
      "metadata": {
        "id": "otDfeacGkH8s"
      },
      "execution_count": null,
      "outputs": []
    },
    {
      "cell_type": "code",
      "source": [
        "tests = [['a', 'b'], ['a', 'a'], ['abc', 'ac'], ['abcdef', 'abc'], ['abcdef','acf'], ['anothertest', 'notatest'], ['132535365', '123456789'], ['finaltest', 'zzzfinalzzz']]"
      ],
      "metadata": {
        "id": "502HWgvkqkl8"
      },
      "execution_count": null,
      "outputs": []
    },
    {
      "cell_type": "code",
      "source": [
        "for t in tests:\n",
        "    print(lcs(t[0], t[1]))"
      ],
      "metadata": {
        "id": "lokfh86Xrfx2",
        "outputId": "402a79c3-1d23-45cf-966c-30af72f81c39",
        "colab": {
          "base_uri": "https://localhost:8080/"
        }
      },
      "execution_count": null,
      "outputs": [
        {
          "output_type": "stream",
          "name": "stdout",
          "text": [
            "\n",
            "a\n",
            "ac\n",
            "abc\n",
            "acf\n",
            "notatest\n",
            "12356\n",
            "final\n"
          ]
        }
      ]
    },
    {
      "cell_type": "markdown",
      "source": [
        "# 6kyu Street Fighter1 - Character Selection\n",
        "https://www.codewars.com/kata/5853213063adbd1b9b0000be"
      ],
      "metadata": {
        "id": "kN1zjfI32y8M"
      }
    },
    {
      "cell_type": "code",
      "source": [
        "MOVES_HOR = {\n",
        "    \"left\": -1,\n",
        "    \"right\": 1\n",
        "}\n",
        "\n",
        "MOVES_VER = {\n",
        "    \"up\": -1,\n",
        "    \"down\": 1\n",
        "}\n",
        "\n",
        "def street_fighter_selection(fighters, initial_position, moves):\n",
        "    current_row, current_column = initial_position[0], initial_position[1]\n",
        "    row_len = len(fighters[0]) - 1\n",
        "    path = [] # path to take through fighter list\n",
        "    fighter_res = []\n",
        "    for move in moves:\n",
        "        #horizontal movement\n",
        "        if move in MOVES_HOR.keys():\n",
        "            current_column += MOVES_HOR[move]\n",
        "            path.append([current_row, current_column % (row_len + 1)])\n",
        "        #vertical movement\n",
        "        if move in MOVES_VER.keys():\n",
        "            if 0 < current_row + MOVES_VER[move] > 1:\n",
        "                pass\n",
        "            else:\n",
        "                current_row += MOVES_VER[move]\n",
        "            path.append([current_row, current_column % (row_len + 1)])\n",
        "    for p in path:\n",
        "        fighter_res.append(fighters[p[0]][p[1]])\n",
        "    return fighter_res\n",
        "\n"
      ],
      "metadata": {
        "id": "-9tXcIny282W"
      },
      "execution_count": null,
      "outputs": []
    },
    {
      "cell_type": "code",
      "source": [
        "fighters = [\n",
        "\t[\"Ryu\", \"E.Honda\", \"Blanka\", \"Guile\", \"Balrog\", \"Vega\"],\n",
        "\t[\"Ken\", \"Chun Li\", \"Zangief\", \"Dhalsim\", \"Sagat\", \"M.Bison\"]\n",
        "]\n",
        "moves =  [\"up\",\"left\",\"down\",\"right\"]*2\n",
        "initial_position = (0,0)"
      ],
      "metadata": {
        "id": "WDRMIpcd396R"
      },
      "execution_count": null,
      "outputs": []
    },
    {
      "cell_type": "code",
      "source": [
        "street_fighter_selection(fighters, initial_position, moves)"
      ],
      "metadata": {
        "id": "d6qv8MiN5TWl",
        "outputId": "de166865-61c2-4c43-dfeb-2f85a1f4e066",
        "colab": {
          "base_uri": "https://localhost:8080/"
        }
      },
      "execution_count": null,
      "outputs": [
        {
          "output_type": "execute_result",
          "data": {
            "text/plain": [
              "['Ryu', 'Vega', 'M.Bison', 'Ken', 'Ryu', 'Vega', 'M.Bison', 'Ken']"
            ]
          },
          "metadata": {},
          "execution_count": 208
        }
      ]
    },
    {
      "cell_type": "markdown",
      "source": [
        "## 6 kyu: Pair of gloves\n",
        "https://www.codewars.com/kata/58235a167a8cb37e1a0000db/train/python<br>\n"
      ],
      "metadata": {
        "id": "0Q9274Dl2YIe"
      }
    },
    {
      "cell_type": "code",
      "source": [
        "from collections import Counter\n",
        "def number_of_pairs(gloves):\n",
        "    return sum(count // 2 for count in Counter(gloves).values())"
      ],
      "metadata": {
        "id": "lOxS6aREozLq"
      },
      "execution_count": 38,
      "outputs": []
    },
    {
      "cell_type": "code",
      "source": [
        "tests = [[\"red\", \"green\", \"red\", \"blue\", \"blue\"], [\"red\", \"red\", \"red\", \"red\", \"red\", \"red\"],[\"gray\",\"black\",\"purple\",\"purple\",\"gray\",\"black\"], [\"red\",\"green\",\"blue\",\"blue\",\"red\",\"green\",\"red\",\"red\",\"red\"]]"
      ],
      "metadata": {
        "id": "8srcU_6S28EA"
      },
      "execution_count": 39,
      "outputs": []
    },
    {
      "cell_type": "code",
      "source": [
        "for test in tests:\n",
        "    print(number_of_pairs(test))"
      ],
      "metadata": {
        "colab": {
          "base_uri": "https://localhost:8080/"
        },
        "id": "IQnYNlwU3G6n",
        "outputId": "ffa174c5-7e99-4020-e42c-ceab5b5dc6bb"
      },
      "execution_count": 40,
      "outputs": [
        {
          "output_type": "stream",
          "name": "stdout",
          "text": [
            "2\n",
            "3\n",
            "3\n",
            "4\n"
          ]
        }
      ]
    },
    {
      "cell_type": "code",
      "source": [],
      "metadata": {
        "id": "_nTbd1AO3UWL"
      },
      "execution_count": 31,
      "outputs": []
    }
  ]
}