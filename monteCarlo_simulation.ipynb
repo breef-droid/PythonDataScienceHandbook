{
  "nbformat": 4,
  "nbformat_minor": 0,
  "metadata": {
    "colab": {
      "name": "monteCarlo_simulation.ipynb",
      "provenance": [],
      "collapsed_sections": [],
      "authorship_tag": "ABX9TyMsmjejLqvV3G0zba8j7WJC",
      "include_colab_link": true
    },
    "kernelspec": {
      "name": "python3",
      "display_name": "Python 3"
    },
    "language_info": {
      "name": "python"
    }
  },
  "cells": [
    {
      "cell_type": "markdown",
      "metadata": {
        "id": "view-in-github",
        "colab_type": "text"
      },
      "source": [
        "<a href=\"https://colab.research.google.com/github/breef-droid/PythonDataScienceHandbook/blob/master/monteCarlo_simulation.ipynb\" target=\"_parent\"><img src=\"https://colab.research.google.com/assets/colab-badge.svg\" alt=\"Open In Colab\"/></a>"
      ]
    },
    {
      "cell_type": "markdown",
      "source": [
        "# Monte Carlo Simulations with Python\n",
        "https://pub.towardsai.net/monte-carlo-simulation-an-in-depth-tutorial-with-python-bcf6eb7856c8\n",
        "## Coin Flip:\n",
        "The probability of heads or tails is 1/2. But how can we prove this? We can use a Monte-Carlo method to simulate coin-flipping iteratively 5000 tiems to show the probability of heads/tails is 50%<br>\n",
        "<img src= \"https://miro.medium.com/max/297/0*iGpqyYv8W4zk5aWv.png\"></img><br>\n",
        "P(Head) = P(Tail) = 1/2\n",
        "\n"
      ],
      "metadata": {
        "id": "4l-sxEIwjn8N"
      }
    },
    {
      "cell_type": "code",
      "source": [
        "import random\n",
        "import numpy as np\n",
        "import matplotlib.pyplot as plt"
      ],
      "metadata": {
        "id": "khy3cCOvjm8A"
      },
      "execution_count": 1,
      "outputs": []
    },
    {
      "cell_type": "code",
      "source": [
        "#coinflip function\n",
        "def coin_flip():\n",
        "    return random.randint(0, 1)"
      ],
      "metadata": {
        "id": "S39pIzJWlsX2"
      },
      "execution_count": 2,
      "outputs": []
    },
    {
      "cell_type": "code",
      "source": [
        "#Monte-Carlo Sim:\n",
        "def monte_carlo(n):\n",
        "    results, temp = 0, list()\n",
        "    \n",
        "    for i in range(n):\n",
        "        results += coin_flip()\n",
        "        prob_value = results/(i+1) #probability value calc\n",
        "        temp.append(prob_value)\n",
        "    \n",
        "    plt.axhline(y = 0.5, color= 'r', linestyle= 'dashdot')\n",
        "    plt.xlabel('Iterations')\n",
        "    plt.ylabel('Probability')\n",
        "    plt.plot(temp)\n",
        "   \n",
        "    return results/n"
      ],
      "metadata": {
        "id": "CkJ1OdoLlyUl"
      },
      "execution_count": 22,
      "outputs": []
    },
    {
      "cell_type": "markdown",
      "source": [
        "What the below shows is that after n iterations the probability of getting a heads(0) is 0.5056 or 51%"
      ],
      "metadata": {
        "id": "ZjZfkiPTsF2w"
      }
    },
    {
      "cell_type": "code",
      "source": [
        "monte_carlo(5000)"
      ],
      "metadata": {
        "colab": {
          "base_uri": "https://localhost:8080/",
          "height": 296
        },
        "id": "AXKW4jonqIGB",
        "outputId": "b2a17fd3-c0f9-46db-f332-dfa827478606"
      },
      "execution_count": 25,
      "outputs": [
        {
          "output_type": "execute_result",
          "data": {
            "text/plain": [
              "0.5056"
            ]
          },
          "metadata": {},
          "execution_count": 25
        },
        {
          "output_type": "display_data",
          "data": {
            "image/png": "[encoded data removed]",
            "text/plain": [
              "<Figure size 432x288 with 1 Axes>"
            ]
          },
          "metadata": {
            "needs_background": "light"
          }
        }
      ]
    },
    {
      "cell_type": "code",
      "source": [
        ""
      ],
      "metadata": {
        "id": "FqeAw1v3q-Tl"
      },
      "execution_count": null,
      "outputs": []
    }
  ]
}